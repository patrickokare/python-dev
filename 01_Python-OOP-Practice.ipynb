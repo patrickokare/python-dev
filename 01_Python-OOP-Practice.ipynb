{
  "nbformat": 4,
  "nbformat_minor": 0,
  "metadata": {
    "colab": {
      "provenance": [],
      "authorship_tag": "ABX9TyOLJ0X9jMwllL1PcHVV8muu",
      "include_colab_link": true
    },
    "kernelspec": {
      "name": "python3",
      "display_name": "Python 3"
    },
    "language_info": {
      "name": "python"
    }
  },
  "cells": [
    {
      "cell_type": "markdown",
      "metadata": {
        "id": "view-in-github",
        "colab_type": "text"
      },
      "source": [
        "<a href=\"https://colab.research.google.com/github/patrickokare/python-dev/blob/main/01_Python-OOP-Practice.ipynb\" target=\"_parent\"><img src=\"https://colab.research.google.com/assets/colab-badge.svg\" alt=\"Open In Colab\"/></a>"
      ]
    },
    {
      "cell_type": "markdown",
      "source": [
        "💪 Challenge 1: Gym Tracker (Lists, OOP, If Statements)\n",
        "\n",
        "Track a user’s workouts.\n",
        "\n",
        "Class: GymMember\n",
        "\t•\t__init__(name) → store name and empty list of workouts\n",
        "\t•\tadd_workout(workout) → only add if it’s not already in list\n",
        "\t•\tis_active() → return True if more than 3 workouts\n",
        "\n",
        "⸻"
      ],
      "metadata": {
        "id": "QWyJXzLqU3ZH"
      }
    },
    {
      "cell_type": "code",
      "execution_count": null,
      "metadata": {
        "id": "LDhpdV7VUxLh"
      },
      "outputs": [],
      "source": []
    },
    {
      "cell_type": "markdown",
      "source": [
        "🏬 Challenge 2: Warehouse Stock (Dictionaries + Loops)\n",
        "\n",
        "Manage stock levels.\n",
        "\n",
        "Class: Warehouse\n",
        "\t•\tadd_item(item, qty)\n",
        "\t•\tremove_item(item, qty)\n",
        "\t•\tshow_stock() → return current stock as a dictionary\n",
        "\n",
        "⸻"
      ],
      "metadata": {
        "id": "IuMsqDcXU7VP"
      }
    },
    {
      "cell_type": "code",
      "source": [],
      "metadata": {
        "id": "ZPnDP_zyVCp9"
      },
      "execution_count": null,
      "outputs": []
    },
    {
      "cell_type": "markdown",
      "source": [
        "📚 Challenge 3: Student Grader (Lists, Loops, If)\n",
        "\n",
        "Track student performance.\n",
        "\n",
        "Class: Student\n",
        "\t•\tadd_grade(score)\n",
        "\t•\taverage()\n",
        "\t•\thas_passed() → pass if avg >= 65\n",
        "\n",
        "⸻"
      ],
      "metadata": {
        "id": "tvJyEpEIU-Hm"
      }
    },
    {
      "cell_type": "code",
      "source": [],
      "metadata": {
        "id": "LKyJfXQsVDJ_"
      },
      "execution_count": null,
      "outputs": []
    },
    {
      "cell_type": "markdown",
      "source": [],
      "metadata": {
        "id": "vF0lzi7_VBlN"
      }
    },
    {
      "cell_type": "markdown",
      "source": [
        "📦 Challenge 4: Package Delivery Tracker (Dicts, Status Logic)\n",
        "\n",
        "Track delivery status of packages.\n",
        "\n",
        "Class: Package\n",
        "\t•\t__init__(id, address)\n",
        "\t•\tmark_delivered()\n",
        "\t•\tget_status() → returns 'Delivered' or 'In Transit'\n",
        "\n",
        "⸻"
      ],
      "metadata": {
        "id": "TGBNERFgVDek"
      }
    },
    {
      "cell_type": "code",
      "source": [],
      "metadata": {
        "id": "Ug9A0WebVGJZ"
      },
      "execution_count": null,
      "outputs": []
    },
    {
      "cell_type": "markdown",
      "source": [
        "💰 Challenge 5: Bank Account Simulator (If, Float)\n",
        "\n",
        "Simulate account transactions.\n",
        "\n",
        "Class: BankAccount\n",
        "\t•\t__init__(owner, balance)\n",
        "\t•\tdeposit(amount)\n",
        "\t•\twithdraw(amount) → fail if balance < amount\n",
        "\t•\tget_balance()\n",
        "\n"
      ],
      "metadata": {
        "id": "52-aVoGcVGdN"
      }
    },
    {
      "cell_type": "code",
      "source": [],
      "metadata": {
        "id": "R9_i4dBQVJTu"
      },
      "execution_count": null,
      "outputs": []
    }
  ]
}