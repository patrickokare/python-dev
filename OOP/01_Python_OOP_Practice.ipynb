{
  "cells": [
    {
      "cell_type": "markdown",
      "metadata": {
        "colab_type": "text",
        "id": "view-in-github"
      },
      "source": [
        "<a href=\"https://colab.research.google.com/github/patrickokare/python-dev/blob/main/OOP/01_Python_OOP_Practice.ipynb\" target=\"_parent\"><img src=\"https://colab.research.google.com/assets/colab-badge.svg\" alt=\"Open In Colab\"/></a>"
      ]
    },
    {
      "cell_type": "markdown",
      "metadata": {
        "id": "QWyJXzLqU3ZH"
      },
      "source": [
        "💪 Challenge 1: Gym Tracker (Lists, OOP, If Statements)\n",
        "\n",
        "Track a user’s workouts.\n",
        "\n",
        "Class: GymMember\n",
        "\t•\t__init__(name) → store name and empty list of workouts\n",
        "\t•\tadd_workout(workout) → only add if it’s not already in list\n",
        "\t•\tis_active() → return True if more than 3 workouts\n",
        "\n",
        "⸻"
      ]
    },
    {
      "cell_type": "code",
      "execution_count": 1,
      "metadata": {
        "id": "LDhpdV7VUxLh"
      },
      "outputs": [],
      "source": [
        "class GymMember:\n",
        "  # 1. Constructor method - runs when an object is created\n",
        "  def __init__(self, name, workouts = []):\n",
        "    self.name = name\n",
        "    self.workouts=workouts\n",
        "    "
      ]
    },
    {
      "cell_type": "markdown",
      "metadata": {
        "id": "IuMsqDcXU7VP"
      },
      "source": [
        "🏬 Challenge 2: Warehouse Stock (Dictionaries + Loops)\n",
        "\n",
        "Manage stock levels.\n",
        "\n",
        "Class: Warehouse\n",
        "\t•\tadd_item(item, qty)\n",
        "\t•\tremove_item(item, qty)\n",
        "\t•\tshow_stock() → return current stock as a dictionary\n",
        "\n",
        "⸻"
      ]
    },
    {
      "cell_type": "code",
      "execution_count": null,
      "metadata": {
        "id": "ZPnDP_zyVCp9"
      },
      "outputs": [],
      "source": []
    },
    {
      "cell_type": "markdown",
      "metadata": {
        "id": "tvJyEpEIU-Hm"
      },
      "source": [
        "📚 Challenge 3: Student Grader (Lists, Loops, If)\n",
        "\n",
        "Track student performance.\n",
        "\n",
        "Class: Student\n",
        "\t•\tadd_grade(score)\n",
        "\t•\taverage()\n",
        "\t•\thas_passed() → pass if avg >= 65\n",
        "\n",
        "⸻"
      ]
    },
    {
      "cell_type": "code",
      "execution_count": null,
      "metadata": {
        "id": "LKyJfXQsVDJ_"
      },
      "outputs": [],
      "source": []
    },
    {
      "cell_type": "markdown",
      "metadata": {
        "id": "vF0lzi7_VBlN"
      },
      "source": []
    },
    {
      "cell_type": "markdown",
      "metadata": {
        "id": "TGBNERFgVDek"
      },
      "source": [
        "📦 Challenge 4: Package Delivery Tracker (Dicts, Status Logic)\n",
        "\n",
        "Track delivery status of packages.\n",
        "\n",
        "Class: Package\n",
        "\t•\t__init__(id, address)\n",
        "\t•\tmark_delivered()\n",
        "\t•\tget_status() → returns 'Delivered' or 'In Transit'\n",
        "\n",
        "⸻"
      ]
    },
    {
      "cell_type": "code",
      "execution_count": null,
      "metadata": {
        "id": "Ug9A0WebVGJZ"
      },
      "outputs": [],
      "source": []
    },
    {
      "cell_type": "markdown",
      "metadata": {
        "id": "52-aVoGcVGdN"
      },
      "source": [
        "💰 Challenge 5: Bank Account Simulator (If, Float)\n",
        "\n",
        "Simulate account transactions.\n",
        "\n",
        "Class: BankAccount\n",
        "\t•\t__init__(owner, balance)\n",
        "\t•\tdeposit(amount)\n",
        "\t•\twithdraw(amount) → fail if balance < amount\n",
        "\t•\tget_balance()\n",
        "\n"
      ]
    },
    {
      "cell_type": "code",
      "execution_count": null,
      "metadata": {
        "id": "R9_i4dBQVJTu"
      },
      "outputs": [],
      "source": []
    }
  ],
  "metadata": {
    "colab": {
      "authorship_tag": "ABX9TyOLJ0X9jMwllL1PcHVV8muu",
      "include_colab_link": true,
      "provenance": []
    },
    "kernelspec": {
      "display_name": "Python 3",
      "name": "python3"
    },
    "language_info": {
      "codemirror_mode": {
        "name": "ipython",
        "version": 3
      },
      "file_extension": ".py",
      "mimetype": "text/x-python",
      "name": "python",
      "nbconvert_exporter": "python",
      "pygments_lexer": "ipython3",
      "version": "3.11.9"
    }
  },
  "nbformat": 4,
  "nbformat_minor": 0
}
